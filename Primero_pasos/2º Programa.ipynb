{
 "cells": [
  {
   "cell_type": "markdown",
   "metadata": {},
   "source": [
    "### Tipos de operadores\n",
    "1. Aritméticos\n",
    "\n",
    "Sumas, restas, multiplicación, división, módulo, exponente y división entera.\n",
    "\n",
    "2. Comparación\n",
    "\n",
    "- Igual a que         ==\n",
    "\n",
    "- Diferente que       !=\n",
    "\n",
    "- Mayor que           >\n",
    "\n",
    "- Menos que           <\n",
    "\n",
    "- Mayor o igual que   >=\n",
    "\n",
    "- Menor o igual que   <=\n",
    "\n",
    "3. Lógicos\n",
    "\n",
    "and, or y not\n",
    "\n",
    "4. Asignación\n",
    "\n",
    "- Igual               =\n",
    "\n",
    "- Incremento          +=\n",
    "\n",
    "- Decremento          -=\n",
    "\n",
    "5. Especiales\n",
    "\n",
    "IS, IS NOT, IN o NOT IN\n"
   ]
  },
  {
   "cell_type": "code",
   "execution_count": 1,
   "metadata": {},
   "outputs": [
    {
     "name": "stdout",
     "output_type": "stream",
     "text": [
      "7\n"
     ]
    }
   ],
   "source": [
    "# Suma \n",
    "suma = 3+4\n",
    "print(suma)"
   ]
  },
  {
   "cell_type": "code",
   "execution_count": null,
   "metadata": {},
   "outputs": [],
   "source": [
    "#"
   ]
  }
 ],
 "metadata": {
  "kernelspec": {
   "display_name": "Python 3",
   "language": "python",
   "name": "python3"
  },
  "language_info": {
   "codemirror_mode": {
    "name": "ipython",
    "version": 3
   },
   "file_extension": ".py",
   "mimetype": "text/x-python",
   "name": "python",
   "nbconvert_exporter": "python",
   "pygments_lexer": "ipython3",
   "version": "3.12.3"
  }
 },
 "nbformat": 4,
 "nbformat_minor": 2
}
