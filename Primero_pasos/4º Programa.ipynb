{
 "cells": [
  {
   "cell_type": "markdown",
   "metadata": {},
   "source": [
    "### LISTAS"
   ]
  },
  {
   "cell_type": "code",
   "execution_count": 1,
   "metadata": {},
   "outputs": [
    {
     "name": "stdout",
     "output_type": "stream",
     "text": [
      "Carlos\n"
     ]
    }
   ],
   "source": [
    "lista = [\"María\", \"Carlos\", \"Pepe\", \"Antonio\", \"Roberto\"]\n",
    "\n",
    "print(lista[1])"
   ]
  },
  {
   "cell_type": "code",
   "execution_count": 2,
   "metadata": {},
   "outputs": [
    {
     "name": "stdout",
     "output_type": "stream",
     "text": [
      "['Carlos', 'Pepe', 'Antonio', 'Roberto']\n"
     ]
    }
   ],
   "source": [
    "print(lista[1:])"
   ]
  },
  {
   "cell_type": "code",
   "execution_count": 4,
   "metadata": {},
   "outputs": [
    {
     "name": "stdout",
     "output_type": "stream",
     "text": [
      "['María', 'Carlos', 'Pepe', 'Antonio', 'Roberto', 'Rocío']\n"
     ]
    }
   ],
   "source": [
    "# Si quisiera añadir a la lista otro nombre, usaría .append\n",
    "\n",
    "lista.append(\"Rocío\")\n",
    "\n",
    "print(lista)"
   ]
  },
  {
   "cell_type": "code",
   "execution_count": 8,
   "metadata": {},
   "outputs": [
    {
     "name": "stdout",
     "output_type": "stream",
     "text": [
      "['María', 'Carlos', 'Macarena', 'Pepe', 'Antonio', 'Roberto', 'Rocío']\n"
     ]
    }
   ],
   "source": [
    "# Si quisiera insertar un nombre en el índice usaríamos .insert y tendríamos que marcar el índice y el elmento que queremos agregar. \n",
    "\n",
    "lista.insert(2, \"Macarena\")\n",
    "\n",
    "print(lista)"
   ]
  },
  {
   "cell_type": "code",
   "execution_count": 9,
   "metadata": {},
   "outputs": [
    {
     "name": "stdout",
     "output_type": "stream",
     "text": [
      "['María', 'Carlos', 'Macarena', 'Pepe', 'Antonio', 'Roberto', 'Rocío', 'San Benito', 'Alberto', 'Sara']\n"
     ]
    }
   ],
   "source": [
    "# Si yo quisiera agregar a otra lista usaría .extend\n",
    "\n",
    "lista.extend([\"San Benito\", \"Alberto\", \"Sara\"])\n",
    "\n",
    "print(lista)"
   ]
  },
  {
   "cell_type": "code",
   "execution_count": null,
   "metadata": {},
   "outputs": [
    {
     "name": "stdout",
     "output_type": "stream",
     "text": [
      "1\n"
     ]
    }
   ],
   "source": [
    "# Para saber si un elemento está en la lista y en qué posición usaríamos index. \n",
    "\n",
    "print(lista.index(\"Carlos\"))"
   ]
  }
 ],
 "metadata": {
  "kernelspec": {
   "display_name": "Python 3",
   "language": "python",
   "name": "python3"
  },
  "language_info": {
   "codemirror_mode": {
    "name": "ipython",
    "version": 3
   },
   "file_extension": ".py",
   "mimetype": "text/x-python",
   "name": "python",
   "nbconvert_exporter": "python",
   "pygments_lexer": "ipython3",
   "version": "3.12.3"
  }
 },
 "nbformat": 4,
 "nbformat_minor": 2
}
