{
 "cells": [
  {
   "cell_type": "markdown",
   "metadata": {},
   "source": [
    "### FUNCIONES\n",
    "\n",
    "## ¿Qué son las funciones?\n",
    "\n",
    "Son un cojunto de líneas de código que funcionan como una unidad y realiza una tarea específica.Se puede dividir en subtareas. \n",
    "En python las funciones se denominan \"métodos\" cuando se encuentra dentro de una clase. \n",
    "\n",
    "\n"
   ]
  },
  {
   "cell_type": "code",
   "execution_count": 1,
   "metadata": {},
   "outputs": [
    {
     "name": "stdout",
     "output_type": "stream",
     "text": [
      "Hola Mundo\n",
      "Estoy aprendiendo python\n",
      "Creando funciones\n"
     ]
    }
   ],
   "source": [
    "# Esto es una función.\n",
    "\n",
    "def mensaje():\n",
    "    print(\"Hola Mundo\")\n",
    "    print(\"Estoy aprendiendo python\")\n",
    "    print(\"Creando funciones\")\n",
    "\n",
    "mensaje()"
   ]
  },
  {
   "cell_type": "code",
   "execution_count": 2,
   "metadata": {},
   "outputs": [
    {
     "name": "stdout",
     "output_type": "stream",
     "text": [
      "Hola Mundo\n",
      "Estoy aprendiendo python\n",
      "Creando funciones\n",
      "Hola Mundo\n",
      "Estoy aprendiendo python\n",
      "Creando funciones\n",
      "Hola Mundo\n",
      "Estoy aprendiendo python\n",
      "Creando funciones\n"
     ]
    }
   ],
   "source": [
    "# Puedo llamar a la función cuantas veces quiera. \n",
    "\n",
    "mensaje()\n",
    "\n",
    "mensaje()\n",
    "\n",
    "mensaje()"
   ]
  }
 ],
 "metadata": {
  "kernelspec": {
   "display_name": "Python 3",
   "language": "python",
   "name": "python3"
  },
  "language_info": {
   "codemirror_mode": {
    "name": "ipython",
    "version": 3
   },
   "file_extension": ".py",
   "mimetype": "text/x-python",
   "name": "python",
   "nbconvert_exporter": "python",
   "pygments_lexer": "ipython3",
   "version": "3.12.3"
  }
 },
 "nbformat": 4,
 "nbformat_minor": 2
}
